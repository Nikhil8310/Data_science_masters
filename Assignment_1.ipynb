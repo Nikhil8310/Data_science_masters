{
 "cells": [
  {
   "cell_type": "markdown",
   "id": "6833ca06-0d90-4906-b5a1-51be0955a2e7",
   "metadata": {},
   "source": [
    "Q1.  Explain with an example each when to use a for loop and a while loop."
   ]
  },
  {
   "cell_type": "markdown",
   "id": "569df5ca-598e-42d1-bdec-170cedbdc59c",
   "metadata": {},
   "source": [
    "## A for loop is used when you have a sequence of items (like a list, tuple, or range) and you want to iterate through each item in the sequence."
   ]
  },
  {
   "cell_type": "code",
   "execution_count": 1,
   "id": "562f5454-2f22-4a0e-8906-ecb844c61586",
   "metadata": {},
   "outputs": [],
   "source": [
    "lst=[1,2,3,4,5,6,7,8,9,10]"
   ]
  },
  {
   "cell_type": "code",
   "execution_count": 4,
   "id": "5562e4a0-cb70-447d-969e-ae7925a87e4e",
   "metadata": {},
   "outputs": [
    {
     "name": "stdout",
     "output_type": "stream",
     "text": [
      "1 4 9 16 25 36 49 64 81 100 "
     ]
    }
   ],
   "source": [
    "for i in lst:\n",
    "    print(i**2,end=\" \")\n",
    "# In this for loop is iterate through each element of the list and print the square of that element"
   ]
  },
  {
   "cell_type": "markdown",
   "id": "7972a38b-3e0d-4e99-9500-6faaca227362",
   "metadata": {},
   "source": [
    "## A while loop is used when you want to repeatedly execute a block of code as long as a certain condition is true. The loop continues as long as the condition remains true."
   ]
  },
  {
   "cell_type": "code",
   "execution_count": 9,
   "id": "2c937f8e-fd8a-4f64-8afb-13e5af55e358",
   "metadata": {},
   "outputs": [
    {
     "name": "stdout",
     "output_type": "stream",
     "text": [
      "1 4 9 16 25 36 49 64 81 100 "
     ]
    }
   ],
   "source": [
    "i=1\n",
    "while i<=10:\n",
    "    print(i**2,end=\" \")\n",
    "    i+=1\n",
    "# In this while loop is giving the sqare of all the numbers till the values of i is less than or equal to 10"
   ]
  },
  {
   "cell_type": "markdown",
   "id": "5fedd75c-a0f6-4b56-baea-e6224443443a",
   "metadata": {},
   "source": [
    "Q2.  Write a python program to print the sum and product of the first 10 natural numbers using for \n",
    "and while loop."
   ]
  },
  {
   "cell_type": "code",
   "execution_count": 18,
   "id": "dc8bb7e5-b82d-48fa-bb51-f0968dd99985",
   "metadata": {},
   "outputs": [
    {
     "name": "stdout",
     "output_type": "stream",
     "text": [
      "55\n",
      "3628800\n"
     ]
    }
   ],
   "source": [
    "sum_of_elements=0\n",
    "product_of_elements=1\n",
    "for i in range(1,11):\n",
    "    sum_of_elements+=i\n",
    "    product_of_elements*=i\n",
    "print(sum_of_elements)\n",
    "print(product_of_elements)"
   ]
  },
  {
   "cell_type": "code",
   "execution_count": 25,
   "id": "239c90d1-6bde-4445-ba08-255be68aa4b4",
   "metadata": {},
   "outputs": [
    {
     "name": "stdout",
     "output_type": "stream",
     "text": [
      "55\n",
      "3628800\n"
     ]
    }
   ],
   "source": [
    "i=1\n",
    "sum_of_elements=0\n",
    "product_of_elements=1\n",
    "while i<=10:\n",
    "    sum_of_elements+=i\n",
    "    product_of_elements*=i\n",
    "    i+=1\n",
    "print(sum_of_elements)\n",
    "print(product_of_elements)"
   ]
  },
  {
   "cell_type": "markdown",
   "id": "7d0ee051-0fed-4544-a4a7-6b751f3b2850",
   "metadata": {},
   "source": [
    "Q3. Create a python program to compute the electricity bill for a household.\n",
    "The per-unit charges in rupees are as follows: For the first 100 units, the user will be charged Rs. 4.5 per \n",
    "unit, for the next 100 units, the user will be charged Rs. 6 per unit, and for the next 100 units, the user will \n",
    "be charged Rs. 10 per unit, After 300 units and above the user will be charged Rs. 20 per unit."
   ]
  },
  {
   "cell_type": "code",
   "execution_count": 10,
   "id": "9e25bd27-f959-4b84-9c42-42475479eb44",
   "metadata": {},
   "outputs": [
    {
     "name": "stdin",
     "output_type": "stream",
     "text": [
      "Last month unit : 310\n"
     ]
    },
    {
     "name": "stdout",
     "output_type": "stream",
     "text": [
      "The bill amount is 2250.0\n"
     ]
    }
   ],
   "source": [
    "unit=int(input(\"Last month unit :\" ))\n",
    "if unit<=100:\n",
    "    print(f\"The bill amount is {100*4.5}\")\n",
    "elif 100<unit<=200:\n",
    "    print(f\"The bill amount is {100*4.5+(unit-100)*6}\")\n",
    "elif 200<unit<=300:\n",
    "    print(f\"The bill amount is {100*4.5+100*6+(unit-200)*10}\")\n",
    "elif 300<unit:\n",
    "    print(f\"The bill amount is {100*4.5+100*6+100*10+(unit-300)*20}\")"
   ]
  },
  {
   "cell_type": "markdown",
   "id": "3bf751aa-ec06-4621-b86b-cf363d7f3156",
   "metadata": {},
   "source": [
    "Q4. Create a list of numbers from 1 to 100. Use for loop and while loop to calculate the cube of each \n",
    "number and if the cube of that number is divisible by 4 or 5 then append that number in a list and print \n",
    "that list."
   ]
  },
  {
   "cell_type": "code",
   "execution_count": 21,
   "id": "524f11ee-8ecd-4118-bc52-c5e00baddb18",
   "metadata": {},
   "outputs": [
    {
     "name": "stdout",
     "output_type": "stream",
     "text": [
      "[4, 5, 8, 10, 12, 15, 16, 20, 24, 25, 28, 30, 32, 35, 36, 40, 44, 45, 48, 50, 52, 55, 56, 60, 64, 65, 68, 70, 72, 75, 76, 80, 84, 85, 88, 90, 92, 95, 96, 100]\n"
     ]
    }
   ],
   "source": [
    "lst=[]\n",
    "for x in range (1,101):\n",
    "    if x%4==0 or x%5==0:\n",
    "        lst.append(x)\n",
    "print(lst)"
   ]
  },
  {
   "cell_type": "code",
   "execution_count": 20,
   "id": "a99f6323-cea8-4e16-8c23-8ed3ce45b5b6",
   "metadata": {},
   "outputs": [
    {
     "name": "stdout",
     "output_type": "stream",
     "text": [
      "[4, 5, 8, 10, 12, 15, 16, 20, 24, 25, 28, 30, 32, 35, 36, 40, 44, 45, 48, 50, 52, 55, 56, 60, 64, 65, 68, 70, 72, 75, 76, 80, 84, 85, 88, 90, 92, 95, 96, 100]\n"
     ]
    }
   ],
   "source": [
    "lst_while=[]\n",
    "i=1\n",
    "while i<=100:\n",
    "    if i%4==0 or i%5==0:\n",
    "        lst_while.append(i)\n",
    "    i+=1\n",
    "print(lst_while)"
   ]
  },
  {
   "cell_type": "markdown",
   "id": "82d32867-abfc-417a-931a-47ab4ff13767",
   "metadata": {},
   "source": [
    "Q5.  Write a program to filter count vowels in the below-given string.\n",
    "\n",
    "string = \"I want to become a data scientist\""
   ]
  },
  {
   "cell_type": "code",
   "execution_count": 34,
   "id": "34fcb9ae-4bc3-4d2e-b644-3e07e73316fc",
   "metadata": {},
   "outputs": [
    {
     "data": {
      "text/plain": [
       "{'a': 4, 'e': 3, 'i': 3, 'o': 2, 'u': 0}"
      ]
     },
     "execution_count": 34,
     "metadata": {},
     "output_type": "execute_result"
    }
   ],
   "source": [
    "string=\"I want to become a data scientist\"\n",
    "dic={}\n",
    "vowel=('a','e','i','o','u')\n",
    "for i in vowel:\n",
    "    if i not in dic :\n",
    "        dic[i]=string.lower().count(i)\n",
    "dic"
   ]
  },
  {
   "cell_type": "code",
   "execution_count": 29,
   "id": "e2ea6582-05ff-4f0d-a621-ee744de99895",
   "metadata": {},
   "outputs": [
    {
     "name": "stdout",
     "output_type": "stream",
     "text": [
      "Number of vowels in the string: 12\n"
     ]
    }
   ],
   "source": [
    "string = \"I want to become a data scientist\"\n",
    "vowel=('a','e','i','o','u')\n",
    "vowel_count = 0\n",
    "for i in string.lower():\n",
    "    if i in vowel:\n",
    "        vowel_count += 1\n",
    "\n",
    "print(f\"Number of vowels in the string: {vowel_count}\")"
   ]
  },
  {
   "cell_type": "code",
   "execution_count": null,
   "id": "c0d66166-768a-4322-9980-54eeab0c1977",
   "metadata": {},
   "outputs": [],
   "source": []
  }
 ],
 "metadata": {
  "kernelspec": {
   "display_name": "Python 3 (ipykernel)",
   "language": "python",
   "name": "python3"
  },
  "language_info": {
   "codemirror_mode": {
    "name": "ipython",
    "version": 3
   },
   "file_extension": ".py",
   "mimetype": "text/x-python",
   "name": "python",
   "nbconvert_exporter": "python",
   "pygments_lexer": "ipython3",
   "version": "3.10.8"
  }
 },
 "nbformat": 4,
 "nbformat_minor": 5
}
