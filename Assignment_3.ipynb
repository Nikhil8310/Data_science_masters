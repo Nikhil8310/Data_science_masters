{
 "cells": [
  {
   "cell_type": "markdown",
   "id": "d61de582-3674-4723-af6f-3f4b9437436c",
   "metadata": {},
   "source": [
    "Q1. Create a python program to sort the given list of tuples based on integer value using a \n",
    "lambda function. \n",
    "\n",
    "\n",
    "[('Sachin Tendulkar', 34357), ('Ricky Ponting', 27483), ('Jack Kallis', 25534), ('Virat Kohli', 24936)]`"
   ]
  },
  {
   "cell_type": "code",
   "execution_count": 1,
   "id": "624d5c77-4c42-4cbc-a63b-1893d5679019",
   "metadata": {},
   "outputs": [],
   "source": [
    "lst=[('Sachin Tendulkar', 34357), ('Ricky Ponting', 27483), ('Jack Kallis', 25534), ('Virat Kohli', 24936)]"
   ]
  },
  {
   "cell_type": "code",
   "execution_count": 2,
   "id": "79a525f2-a64d-4a75-8fac-7c25781300fd",
   "metadata": {},
   "outputs": [
    {
     "data": {
      "text/plain": [
       "[('Sachin Tendulkar', 34357),\n",
       " ('Ricky Ponting', 27483),\n",
       " ('Jack Kallis', 25534),\n",
       " ('Virat Kohli', 24936)]"
      ]
     },
     "execution_count": 2,
     "metadata": {},
     "output_type": "execute_result"
    }
   ],
   "source": [
    "def sorting(lst):\n",
    "    my_list=sorted(lst,key=lambda x: x[1],reverse=True)\n",
    "    return my_list\n",
    "sorting(lst)"
   ]
  },
  {
   "cell_type": "markdown",
   "id": "3968cc5b-6f75-44dc-a135-4847ff04d068",
   "metadata": {},
   "source": [
    "Q2. Write a Python Program to find the squares of all the numbers in the given list of integers using \n",
    "lambda and map functions.\n",
    "\n",
    "\n",
    "[1, 2, 3, 4, 5, 6, 7, 8, 9, 10]"
   ]
  },
  {
   "cell_type": "code",
   "execution_count": 3,
   "id": "3eda1472-81fc-420f-a599-9d07c46c5075",
   "metadata": {},
   "outputs": [],
   "source": [
    "lst=[1,2,3,4,5,6,7,8,9,10]"
   ]
  },
  {
   "cell_type": "code",
   "execution_count": 4,
   "id": "39c1025d-44a7-4c93-af2a-00256067628b",
   "metadata": {},
   "outputs": [
    {
     "data": {
      "text/plain": [
       "[1, 4, 9, 16, 25, 36, 49, 64, 81, 100]"
      ]
     },
     "execution_count": 4,
     "metadata": {},
     "output_type": "execute_result"
    }
   ],
   "source": [
    "def sqare(lst):\n",
    "    my_list=list(map(lambda x:x**2,lst))\n",
    "    return my_list\n",
    "sqare(lst)"
   ]
  },
  {
   "cell_type": "markdown",
   "id": "7bdb73ee-5cb0-46b8-a3f3-ed0f34f78b05",
   "metadata": {},
   "source": [
    "Q3. Write a python program to convert the given list of integers into a tuple of strings. Use map and \n",
    "lambda functions\n",
    "\n",
    "\n",
    "Given String: [1, 2, 3, 4, 5, 6, 7, 8, 9, 10]\n",
    "\n",
    "Expected output: ('1', '2', '3', '4', '5', '6', '7', '8', '9', '10')`"
   ]
  },
  {
   "cell_type": "code",
   "execution_count": 5,
   "id": "8e824914-caf2-4f0f-9ca0-50643cebf715",
   "metadata": {},
   "outputs": [],
   "source": [
    "lst=[1,2,3,4,5,6,7,8,9,10]"
   ]
  },
  {
   "cell_type": "code",
   "execution_count": 6,
   "id": "37386500-69f3-4583-9657-a418788f3c42",
   "metadata": {},
   "outputs": [
    {
     "data": {
      "text/plain": [
       "['1', '2', '3', '4', '5', '6', '7', '8', '9', '10']"
      ]
     },
     "execution_count": 6,
     "metadata": {},
     "output_type": "execute_result"
    }
   ],
   "source": [
    "def string(lst):\n",
    "    my_list=list(map(lambda x:str(x),lst))\n",
    "    return my_list\n",
    "string(lst)"
   ]
  },
  {
   "cell_type": "markdown",
   "id": "509966d5-8ebc-45e6-9662-961d5a22df0a",
   "metadata": {},
   "source": [
    "Q4.  Write a python program using reduce function to compute the product of a list containing numbers \n",
    "from 1 to 25."
   ]
  },
  {
   "cell_type": "code",
   "execution_count": 13,
   "id": "6c374b6f-5ad9-4aac-9eb0-194dcd48b427",
   "metadata": {},
   "outputs": [
    {
     "data": {
      "text/plain": [
       "15511210043330985984000000"
      ]
     },
     "execution_count": 13,
     "metadata": {},
     "output_type": "execute_result"
    }
   ],
   "source": [
    "lst=[i for i in range(1,26)]\n",
    "from functools import reduce\n",
    "product=reduce(lambda x,y:x*y,lst)\n",
    "product"
   ]
  },
  {
   "cell_type": "markdown",
   "id": "e1bd518e-5b35-40e3-ac50-01d37423723b",
   "metadata": {},
   "source": [
    "Q5. Write a python program to filter the numbers in a given list that are divisible by 2 and 3 using the \n",
    "filter function.\n",
    "\n",
    "\n",
    "[2, 3, 6, 9, 27, 60, 90, 120, 55, 46]"
   ]
  },
  {
   "cell_type": "code",
   "execution_count": 20,
   "id": "39ec0260-19a4-4c54-83c6-9ec77e744ca7",
   "metadata": {},
   "outputs": [
    {
     "data": {
      "text/plain": [
       "[6, 60, 90, 120]"
      ]
     },
     "execution_count": 20,
     "metadata": {},
     "output_type": "execute_result"
    }
   ],
   "source": [
    "lst=[2,3,6,9,27,60,90,120,55,46]\n",
    "my_list=list(filter(lambda x:x%2==0 and x%3==0,lst))\n",
    "my_list"
   ]
  },
  {
   "cell_type": "markdown",
   "id": "e8778770-36b5-449a-90f6-928824c36bde",
   "metadata": {},
   "source": [
    "Q6. Write a python program to find palindromes in the given list of strings using lambda and filter \n",
    "function.\n",
    "\n",
    "\n",
    "['python', 'php', 'aba', 'radar', 'level']"
   ]
  },
  {
   "cell_type": "code",
   "execution_count": 21,
   "id": "22c7dfd2-0d5e-4b52-aef8-430199cc3293",
   "metadata": {},
   "outputs": [],
   "source": [
    "lst=['python', 'php', 'aba', 'radar', 'level']"
   ]
  },
  {
   "cell_type": "code",
   "execution_count": 25,
   "id": "ee9902e0-ccee-440a-95c6-948dc46be558",
   "metadata": {},
   "outputs": [
    {
     "data": {
      "text/plain": [
       "['php', 'aba', 'radar', 'level']"
      ]
     },
     "execution_count": 25,
     "metadata": {},
     "output_type": "execute_result"
    }
   ],
   "source": [
    "my_list=list(filter(lambda word:word==word[::-1],lst))\n",
    "my_list"
   ]
  },
  {
   "cell_type": "code",
   "execution_count": null,
   "id": "17d4bb1b-e2de-42c0-8be1-19e98a847312",
   "metadata": {},
   "outputs": [],
   "source": []
  }
 ],
 "metadata": {
  "kernelspec": {
   "display_name": "Python 3 (ipykernel)",
   "language": "python",
   "name": "python3"
  },
  "language_info": {
   "codemirror_mode": {
    "name": "ipython",
    "version": 3
   },
   "file_extension": ".py",
   "mimetype": "text/x-python",
   "name": "python",
   "nbconvert_exporter": "python",
   "pygments_lexer": "ipython3",
   "version": "3.10.8"
  }
 },
 "nbformat": 4,
 "nbformat_minor": 5
}
