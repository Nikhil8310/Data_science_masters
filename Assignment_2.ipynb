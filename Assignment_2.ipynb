{
 "cells": [
  {
   "cell_type": "markdown",
   "id": "23f0e7a7-8a82-48f7-a0eb-b21357713048",
   "metadata": {},
   "source": [
    "Q1. Which keyword is used to create a function? Create a function to return a list of odd numbers in the \n",
    "range of 1 to 25."
   ]
  },
  {
   "cell_type": "code",
   "execution_count": 1,
   "id": "16579934-a522-4204-b068-7b90b5642a50",
   "metadata": {},
   "outputs": [],
   "source": [
    "## The keyword used to create a function in Python is \"def\""
   ]
  },
  {
   "cell_type": "code",
   "execution_count": 2,
   "id": "ea2e1d7c-68f4-4644-913e-a5b186bb8acd",
   "metadata": {},
   "outputs": [
    {
     "data": {
      "text/plain": [
       "[1, 3, 5, 7, 9, 11, 13, 15, 17, 19, 21, 23, 25]"
      ]
     },
     "execution_count": 2,
     "metadata": {},
     "output_type": "execute_result"
    }
   ],
   "source": [
    "def odd_number():\n",
    "    lst=[i for i in range(1,26) if i%2==1 ]\n",
    "    return lst\n",
    "odd_number()"
   ]
  },
  {
   "cell_type": "code",
   "execution_count": 3,
   "id": "445d173f-400e-4247-bffd-d90051fd94b0",
   "metadata": {},
   "outputs": [
    {
     "data": {
      "text/plain": [
       "[1, 3, 5, 7, 9, 11, 13, 15, 17, 19, 21, 23, 25]"
      ]
     },
     "execution_count": 3,
     "metadata": {},
     "output_type": "execute_result"
    }
   ],
   "source": [
    "def odd_number():\n",
    "    lst=[]\n",
    "    for i in range(1,26):\n",
    "        if i%2==1:\n",
    "            lst.append(i)\n",
    "    return lst\n",
    "\n",
    "odd_number()\n"
   ]
  },
  {
   "cell_type": "markdown",
   "id": "dbbaf642-1360-4573-b4e5-02674264ca71",
   "metadata": {},
   "source": [
    "Q2. Why *args and **kwargs is used in some functions? Create a function each for *args and **kwargs \n",
    "to demonstrate their use."
   ]
  },
  {
   "cell_type": "markdown",
   "id": "9ec028ae-1f38-4d32-90f4-b6d25a440238",
   "metadata": {},
   "source": [
    "*args and **kwargs are special syntax in Python used in function definitions to allow a function to accept a variable number of arguments.\n",
    "\n",
    "*args: It allows a function to accept any number of positional arguments. The arguments passed using *args are collected into a tuple within the function.\n",
    "\n",
    "**kwargs: It allows a function to accept any number of keyword arguments (i.e., arguments in the form of key-value pairs). The arguments passed using **kwargs are collected into a dictionary within the function."
   ]
  },
  {
   "cell_type": "code",
   "execution_count": 4,
   "id": "1d5192a6-5ece-4c9e-8720-4902a41545d6",
   "metadata": {},
   "outputs": [
    {
     "data": {
      "text/plain": [
       "20"
      ]
     },
     "execution_count": 4,
     "metadata": {},
     "output_type": "execute_result"
    }
   ],
   "source": [
    "def total(*args):\n",
    "    sum_of_elements=0\n",
    "    for i in args:\n",
    "        sum_of_elements+=i\n",
    "    return sum_of_elements\n",
    "total(2,3,5,10)"
   ]
  },
  {
   "cell_type": "code",
   "execution_count": 5,
   "id": "e112ec58-a652-446d-8512-9757d52dc642",
   "metadata": {},
   "outputs": [
    {
     "data": {
      "text/plain": [
       "{'a': 'Nikhil', 'b': 'Sharma'}"
      ]
     },
     "execution_count": 5,
     "metadata": {},
     "output_type": "execute_result"
    }
   ],
   "source": [
    "def dict_func(**kwargs):\n",
    "    return kwargs\n",
    "dict_func(a='Nikhil',b='Sharma')"
   ]
  },
  {
   "cell_type": "markdown",
   "id": "7f8fd396-28bd-43f5-8a99-c982e42a2fc8",
   "metadata": {},
   "source": [
    "Q3.  What is an iterator in python? Name the method used to initialise the iterator object and the method \n",
    "used for iteration. Use these methods to print the first five elements of the given list [2, 4, 6, 8, 10, 12, 14, \n",
    "16, 18, 20]."
   ]
  },
  {
   "cell_type": "markdown",
   "id": "189d481b-3889-4556-bc12-5c0d467184ee",
   "metadata": {},
   "source": [
    "An iterator is an object that implements the iterator protocol, which consists of two methods: __iter__() and __next__(). \n",
    "Iterators are used to retrieve values from an iterable one by one."
   ]
  },
  {
   "cell_type": "code",
   "execution_count": 6,
   "id": "6ccc5e22-4ee5-46df-a5db-5a47ca14784e",
   "metadata": {},
   "outputs": [],
   "source": [
    "lst=[2,4,6,8,10,12,14,16,18,20]"
   ]
  },
  {
   "cell_type": "code",
   "execution_count": 7,
   "id": "2a6accb2-1c65-4083-b944-e67f3e55971f",
   "metadata": {},
   "outputs": [],
   "source": [
    "def gene(lst):\n",
    "    for i in lst:\n",
    "        yield i"
   ]
  },
  {
   "cell_type": "code",
   "execution_count": 8,
   "id": "dcac9b05-b12b-4255-b3f0-88b2ffd3429b",
   "metadata": {},
   "outputs": [],
   "source": [
    "x=gene(lst)"
   ]
  },
  {
   "cell_type": "code",
   "execution_count": 9,
   "id": "1ec34e00-1c50-4213-b4b2-57a642824909",
   "metadata": {},
   "outputs": [
    {
     "name": "stdout",
     "output_type": "stream",
     "text": [
      "2\n",
      "4\n",
      "6\n",
      "8\n",
      "10\n"
     ]
    }
   ],
   "source": [
    "for i in range(5):\n",
    "    n=next(x)\n",
    "    print(n)"
   ]
  },
  {
   "cell_type": "markdown",
   "id": "1c56b5d7-0762-4771-9d00-0558afc0c17b",
   "metadata": {},
   "source": [
    "Q4.  What is a generator function in python? Why yield keyword is used? Give an example of a generator \n",
    "function."
   ]
  },
  {
   "cell_type": "markdown",
   "id": "dc96b62c-5df6-4f28-8faa-56542624f988",
   "metadata": {},
   "source": [
    "A generator function is a type of function in Python that uses the \"yield\" keyword instead of return keyword to return values. It allows you to create an iterator in a more concise and memory efficient way."
   ]
  },
  {
   "cell_type": "code",
   "execution_count": 10,
   "id": "bc4bf185-2c14-420b-94b9-c7ae27a5cd33",
   "metadata": {},
   "outputs": [],
   "source": [
    "# Using Generator function to create a iterator\n",
    "def even_number(x):\n",
    "    n=1\n",
    "    while n<=x:\n",
    "        if n%2==0:\n",
    "            yield n\n",
    "        n+=1"
   ]
  },
  {
   "cell_type": "code",
   "execution_count": 11,
   "id": "4cac1619-035f-4edd-a76a-97a9bfdc31e5",
   "metadata": {},
   "outputs": [
    {
     "name": "stdout",
     "output_type": "stream",
     "text": [
      "2\n",
      "4\n",
      "6\n",
      "8\n",
      "10\n",
      "12\n",
      "14\n",
      "16\n",
      "18\n",
      "20\n"
     ]
    }
   ],
   "source": [
    "# Iterating over the generated even numbers\n",
    "for i in even_number(20):\n",
    "    print(i)"
   ]
  },
  {
   "cell_type": "markdown",
   "id": "dc0fb1ee-6415-4782-953f-7d824da59d42",
   "metadata": {},
   "source": [
    "Q5. Create a generator function for prime numbers less than 1000. Use the next() method to print the \n",
    "first 20 prime numbers."
   ]
  },
  {
   "cell_type": "code",
   "execution_count": 12,
   "id": "28ab8c71-4a1d-42ea-b610-983caea51f96",
   "metadata": {},
   "outputs": [],
   "source": [
    "def prime_number(x):\n",
    "    n=1\n",
    "    while n<=x:\n",
    "        if x%x==0 and n%2!=0:\n",
    "            yield n\n",
    "        n+=1    "
   ]
  },
  {
   "cell_type": "code",
   "execution_count": 13,
   "id": "21733404-31af-4a54-bf94-72b56f8c967e",
   "metadata": {},
   "outputs": [],
   "source": [
    "prime=prime_number(1000)"
   ]
  },
  {
   "cell_type": "code",
   "execution_count": 14,
   "id": "e7296076-14c6-4f9f-87f4-2f41b757e30a",
   "metadata": {},
   "outputs": [
    {
     "name": "stdout",
     "output_type": "stream",
     "text": [
      "1\n",
      "3\n",
      "5\n",
      "7\n",
      "9\n",
      "11\n",
      "13\n",
      "15\n",
      "17\n",
      "19\n",
      "21\n",
      "23\n",
      "25\n",
      "27\n",
      "29\n",
      "31\n",
      "33\n",
      "35\n",
      "37\n",
      "39\n"
     ]
    }
   ],
   "source": [
    "for i in range(20):\n",
    "    number=next(prime)\n",
    "    print(number)"
   ]
  },
  {
   "cell_type": "markdown",
   "id": "b0f7caa3-aa84-4595-a73e-dfaf42bb914a",
   "metadata": {},
   "source": [
    "Q6. Write a python program to print the first 10 Fibonacci numbers using a while loop."
   ]
  },
  {
   "cell_type": "code",
   "execution_count": 15,
   "id": "3dff49fa-dce9-40c5-8f28-6535e89b19bc",
   "metadata": {},
   "outputs": [],
   "source": [
    "def fibo():\n",
    "    a,b=0,1\n",
    "    while True:\n",
    "        yield a\n",
    "        a,b=b,a+b"
   ]
  },
  {
   "cell_type": "code",
   "execution_count": 16,
   "id": "e6ce9529-7c46-4b21-be13-e918e22213e5",
   "metadata": {},
   "outputs": [],
   "source": [
    "series=fibo()"
   ]
  },
  {
   "cell_type": "code",
   "execution_count": 17,
   "id": "47aae564-d6f4-4730-98da-b5a78790099d",
   "metadata": {},
   "outputs": [
    {
     "name": "stdout",
     "output_type": "stream",
     "text": [
      "0\n",
      "1\n",
      "1\n",
      "2\n",
      "3\n",
      "5\n",
      "8\n",
      "13\n",
      "21\n",
      "34\n"
     ]
    }
   ],
   "source": [
    "for i in range(10):\n",
    "    print(next(series))"
   ]
  },
  {
   "cell_type": "markdown",
   "id": "a2be86c8-aacb-40e8-a8b7-cc60de081e38",
   "metadata": {},
   "source": [
    "Q7. Write a List Comprehension to iterate through the given string: ‘pwskills’.\n",
    "\n",
    "Expected output: ['p', 'w', 's', 'k', 'i', 'l', 'l', 's']"
   ]
  },
  {
   "cell_type": "code",
   "execution_count": 18,
   "id": "2108da44-05e5-4de5-b34c-5b3ef8eaae6a",
   "metadata": {},
   "outputs": [
    {
     "data": {
      "text/plain": [
       "['p', 'w', 's', 'k', 'i', 'l', 'l', 's']"
      ]
     },
     "execution_count": 18,
     "metadata": {},
     "output_type": "execute_result"
    }
   ],
   "source": [
    "s=\"pwskills\"\n",
    "[i for i in s]"
   ]
  },
  {
   "cell_type": "markdown",
   "id": "7f93a384-f53b-47a7-9d04-67a6d858b7cc",
   "metadata": {},
   "source": [
    "Q8. Write a python program to check whether a given number is Palindrome or not using a while loop."
   ]
  },
  {
   "cell_type": "code",
   "execution_count": 19,
   "id": "370daaa5-ce64-4eea-b8e0-83bf13ec1379",
   "metadata": {},
   "outputs": [
    {
     "name": "stdin",
     "output_type": "stream",
     "text": [
      "Enter a number:  1461\n"
     ]
    },
    {
     "name": "stdout",
     "output_type": "stream",
     "text": [
      "1461 is not a palindrome\n"
     ]
    }
   ],
   "source": [
    "number = int(input(\"Enter a number: \"))\n",
    "def is_palindrome(number):\n",
    "    reverse=0\n",
    "    while number>0:\n",
    "        remainder=number%10\n",
    "        reverse=reverse*10+remainder\n",
    "        number=number//10\n",
    "    return reverse\n",
    "reverse_num=is_palindrome\n",
    "if number==reverse_num:\n",
    "    print(f\"{number} is a palindrome\")\n",
    "else:\n",
    "    print(f\"{number} is not a palindrome\")"
   ]
  },
  {
   "cell_type": "markdown",
   "id": "d30e6fd7-08ac-4e16-8d3d-49f7679f25e0",
   "metadata": {},
   "source": [
    "Q9. Write a code to print odd numbers from 1 to 100 using list comprehension\n",
    "Note: Use a list comprehension to create a list from 1 to 100 and use another List comprehension to filter \n",
    "out odd numbers."
   ]
  },
  {
   "cell_type": "code",
   "execution_count": 20,
   "id": "9a42e76b-c250-4a5d-b958-1603985bdbb1",
   "metadata": {},
   "outputs": [
    {
     "name": "stdout",
     "output_type": "stream",
     "text": [
      "[1, 2, 3, 4, 5, 6, 7, 8, 9, 10, 11, 12, 13, 14, 15, 16, 17, 18, 19, 20, 21, 22, 23, 24, 25, 26, 27, 28, 29, 30, 31, 32, 33, 34, 35, 36, 37, 38, 39, 40, 41, 42, 43, 44, 45, 46, 47, 48, 49, 50, 51, 52, 53, 54, 55, 56, 57, 58, 59, 60, 61, 62, 63, 64, 65, 66, 67, 68, 69, 70, 71, 72, 73, 74, 75, 76, 77, 78, 79, 80, 81, 82, 83, 84, 85, 86, 87, 88, 89, 90, 91, 92, 93, 94, 95, 96, 97, 98, 99, 100]\n"
     ]
    }
   ],
   "source": [
    "list1=[i for i in range(1,101)]\n",
    "print(list1)"
   ]
  },
  {
   "cell_type": "code",
   "execution_count": 21,
   "id": "7b32f306-a54c-4a10-a682-861a00b43296",
   "metadata": {},
   "outputs": [
    {
     "name": "stdout",
     "output_type": "stream",
     "text": [
      "[1, 3, 5, 7, 9, 11, 13, 15, 17, 19, 21, 23, 25, 27, 29, 31, 33, 35, 37, 39, 41, 43, 45, 47, 49, 51, 53, 55, 57, 59, 61, 63, 65, 67, 69, 71, 73, 75, 77, 79, 81, 83, 85, 87, 89, 91, 93, 95, 97, 99]\n"
     ]
    }
   ],
   "source": [
    "odd_numbers=[i for i in list1 if i%2==1]\n",
    "print(odd_numbers)"
   ]
  },
  {
   "cell_type": "code",
   "execution_count": null,
   "id": "93db7fab-624f-4a24-9711-f960914424da",
   "metadata": {},
   "outputs": [],
   "source": []
  }
 ],
 "metadata": {
  "kernelspec": {
   "display_name": "Python 3 (ipykernel)",
   "language": "python",
   "name": "python3"
  },
  "language_info": {
   "codemirror_mode": {
    "name": "ipython",
    "version": 3
   },
   "file_extension": ".py",
   "mimetype": "text/x-python",
   "name": "python",
   "nbconvert_exporter": "python",
   "pygments_lexer": "ipython3",
   "version": "3.10.8"
  }
 },
 "nbformat": 4,
 "nbformat_minor": 5
}
