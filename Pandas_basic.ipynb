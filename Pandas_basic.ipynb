{
 "cells": [
  {
   "cell_type": "markdown",
   "id": "9841e64b-9103-414f-9760-50054cceb13e",
   "metadata": {},
   "source": [
    "Q1. Create a Pandas Series that contains the following data: 4, 8, 15, 16, 23, and 42. Then, print the series."
   ]
  },
  {
   "cell_type": "code",
   "execution_count": 1,
   "id": "f8d12354-b615-4559-a682-8f2be627e5e7",
   "metadata": {},
   "outputs": [],
   "source": [
    "import pandas as pd"
   ]
  },
  {
   "cell_type": "code",
   "execution_count": 2,
   "id": "6b809ab0-1bcf-4560-803f-ad9267ed010e",
   "metadata": {},
   "outputs": [
    {
     "data": {
      "text/plain": [
       "0     4\n",
       "1     8\n",
       "2    15\n",
       "3    16\n",
       "4    23\n",
       "5    42\n",
       "dtype: int64"
      ]
     },
     "execution_count": 2,
     "metadata": {},
     "output_type": "execute_result"
    }
   ],
   "source": [
    "ser=pd.Series([4,8,15,16,23,42])\n",
    "ser"
   ]
  },
  {
   "cell_type": "markdown",
   "id": "32e44a7e-369e-46dc-a1c3-ff8199d8531f",
   "metadata": {},
   "source": [
    "Q2. Create a variable of list type containing 10 elements in it, and apply pandas.Series function on the \n",
    "variable print it."
   ]
  },
  {
   "cell_type": "code",
   "execution_count": 3,
   "id": "fee3a943-434d-437d-a235-b29e7bb8e4f1",
   "metadata": {},
   "outputs": [],
   "source": [
    "my_list=[10,15,45,25,30,35,40,80,85,90]"
   ]
  },
  {
   "cell_type": "code",
   "execution_count": 4,
   "id": "01a4549e-b81f-494c-a8db-ebee2d51f225",
   "metadata": {},
   "outputs": [
    {
     "data": {
      "text/plain": [
       "0    10\n",
       "1    15\n",
       "2    45\n",
       "3    25\n",
       "4    30\n",
       "5    35\n",
       "6    40\n",
       "7    80\n",
       "8    85\n",
       "9    90\n",
       "dtype: int64"
      ]
     },
     "execution_count": 4,
     "metadata": {},
     "output_type": "execute_result"
    }
   ],
   "source": [
    "my_series=pd.Series(my_list)\n",
    "my_series"
   ]
  },
  {
   "cell_type": "markdown",
   "id": "87ceb1fd-6599-4de5-86ba-c03d46688ae7",
   "metadata": {},
   "source": [
    "Q3. Create a Pandas DataFrame that contains the following data:"
   ]
  },
  {
   "cell_type": "code",
   "execution_count": 5,
   "id": "74b02d41-3165-484d-a91d-46081cae9e2e",
   "metadata": {},
   "outputs": [],
   "source": [
    "Name=[\"Alice\",\"Bob\",\"Claire\"]\n",
    "Age=[25,30,27]\n",
    "Gender=[\"Female\",\"Male\",\"Female\"]"
   ]
  },
  {
   "cell_type": "code",
   "execution_count": 6,
   "id": "7e966c9e-7744-4eee-bb0a-c69b23479b95",
   "metadata": {},
   "outputs": [
    {
     "data": {
      "text/html": [
       "<div>\n",
       "<style scoped>\n",
       "    .dataframe tbody tr th:only-of-type {\n",
       "        vertical-align: middle;\n",
       "    }\n",
       "\n",
       "    .dataframe tbody tr th {\n",
       "        vertical-align: top;\n",
       "    }\n",
       "\n",
       "    .dataframe thead th {\n",
       "        text-align: right;\n",
       "    }\n",
       "</style>\n",
       "<table border=\"1\" class=\"dataframe\">\n",
       "  <thead>\n",
       "    <tr style=\"text-align: right;\">\n",
       "      <th></th>\n",
       "      <th>Name</th>\n",
       "      <th>Age</th>\n",
       "      <th>Gender</th>\n",
       "    </tr>\n",
       "  </thead>\n",
       "  <tbody>\n",
       "    <tr>\n",
       "      <th>0</th>\n",
       "      <td>Alice</td>\n",
       "      <td>Bob</td>\n",
       "      <td>Claire</td>\n",
       "    </tr>\n",
       "    <tr>\n",
       "      <th>1</th>\n",
       "      <td>25</td>\n",
       "      <td>30</td>\n",
       "      <td>27</td>\n",
       "    </tr>\n",
       "    <tr>\n",
       "      <th>2</th>\n",
       "      <td>Female</td>\n",
       "      <td>Male</td>\n",
       "      <td>Female</td>\n",
       "    </tr>\n",
       "  </tbody>\n",
       "</table>\n",
       "</div>"
      ],
      "text/plain": [
       "     Name   Age  Gender\n",
       "0   Alice   Bob  Claire\n",
       "1      25    30      27\n",
       "2  Female  Male  Female"
      ]
     },
     "execution_count": 6,
     "metadata": {},
     "output_type": "execute_result"
    }
   ],
   "source": [
    "df=pd.DataFrame([Name,Age,Gender],columns=[\"Name\",\"Age\",\"Gender\"])\n",
    "df"
   ]
  },
  {
   "cell_type": "markdown",
   "id": "f333c3c6-6f2e-43df-b492-9b92032792ea",
   "metadata": {},
   "source": [
    "Q4. What is ‘DataFrame’ in pandas and how is it different from pandas.series? Explain with an example."
   ]
  },
  {
   "cell_type": "code",
   "execution_count": 7,
   "id": "c305477c-5215-42ea-b859-f4fce64458a7",
   "metadata": {},
   "outputs": [],
   "source": [
    "##Difference between DataFrame and Series:\n",
    "##Dimension:\n",
    "##DataFrame is a 2-dimensional data structure, consisting of rows and columns.\n",
    "##Series is a 1-dimensional data structure, representing a single column or array-like data.\n",
    "##Structure:\n",
    "##A DataFrame contains multiple columns, each of which can be of a different data type.\n",
    "##A Series contains a single column of data, along with an index.\n",
    "##Usage:\n",
    "##DataFrame is used to work with structured data, where you have multiple variables or features.\n",
    "##Series is used when you need to work with a single column or array-like data.\n",
    "##Operations:\n",
    "##Many operations in pandas can be performed on both DataFrame and Series, such as filtering, aggregation, and transformations.\n",
    "##DataFrame operations are often applied across columns or rows.\n",
    "##Series operations are applied to the elements within the series."
   ]
  },
  {
   "cell_type": "markdown",
   "id": "40ed6847-4121-4702-86d8-64c4e8a4064e",
   "metadata": {},
   "source": [
    "Q5. What are some common functions you can use to manipulate data in a Pandas DataFrame? Can \n",
    "you give an example of when you might use one of these functions?"
   ]
  },
  {
   "cell_type": "markdown",
   "id": "90da6cc4-6f91-4091-aac8-74a5670e22a2",
   "metadata": {},
   "source": [
    "1. head() and tail() : These are being used for slice the dataframe in desired number of rows\n",
    "2. info() : This is used to get infomation related to dataset\n",
    "3. describe(): This is used to get the descriptive information of dataset\n",
    "4. shape(): This is used to check the shape of dataframe\n",
    "5. groupy(): This is used to groupby any column based on values\n",
    "6. sort_values(): This is used to sort_values based on a column"
   ]
  },
  {
   "cell_type": "markdown",
   "id": "493acb51-f230-461c-9ca3-1f41f2930545",
   "metadata": {},
   "source": [
    "Q6. Which of the following is mutable in nature Series, DataFrame, Panel?"
   ]
  },
  {
   "cell_type": "markdown",
   "id": "a5a9f121-1802-487e-a970-79311e953ea3",
   "metadata": {},
   "source": [
    "DataFrame,Series are mutable in nature it mean we change values without changing in there id."
   ]
  },
  {
   "cell_type": "markdown",
   "id": "e8908313-b0f3-4297-a076-cd0b554e6c88",
   "metadata": {},
   "source": [
    "Q7. Create a DataFrame using multiple Series. Explain with an example."
   ]
  },
  {
   "cell_type": "code",
   "execution_count": 8,
   "id": "54086194-42f4-49f2-a90c-6ac8027975ce",
   "metadata": {},
   "outputs": [],
   "source": [
    "Name=[\"Alice\",\"Bob\",\"Claire\"]\n",
    "Age=[25,30,27]\n",
    "Gender=[\"Female\",\"Male\",\"Female\"]\n",
    "Name=pd.Series(Name)\n",
    "Age=pd.Series(Age)\n",
    "Gender=pd.Series(Gender)"
   ]
  },
  {
   "cell_type": "code",
   "execution_count": 9,
   "id": "586fb233-7a5d-4df6-92a7-e7f8aecae0df",
   "metadata": {},
   "outputs": [
    {
     "data": {
      "text/html": [
       "<div>\n",
       "<style scoped>\n",
       "    .dataframe tbody tr th:only-of-type {\n",
       "        vertical-align: middle;\n",
       "    }\n",
       "\n",
       "    .dataframe tbody tr th {\n",
       "        vertical-align: top;\n",
       "    }\n",
       "\n",
       "    .dataframe thead th {\n",
       "        text-align: right;\n",
       "    }\n",
       "</style>\n",
       "<table border=\"1\" class=\"dataframe\">\n",
       "  <thead>\n",
       "    <tr style=\"text-align: right;\">\n",
       "      <th></th>\n",
       "      <th>Name</th>\n",
       "      <th>Age</th>\n",
       "      <th>Gender</th>\n",
       "    </tr>\n",
       "  </thead>\n",
       "  <tbody>\n",
       "    <tr>\n",
       "      <th>0</th>\n",
       "      <td>Alice</td>\n",
       "      <td>25</td>\n",
       "      <td>Female</td>\n",
       "    </tr>\n",
       "    <tr>\n",
       "      <th>1</th>\n",
       "      <td>Bob</td>\n",
       "      <td>30</td>\n",
       "      <td>Male</td>\n",
       "    </tr>\n",
       "    <tr>\n",
       "      <th>2</th>\n",
       "      <td>Claire</td>\n",
       "      <td>27</td>\n",
       "      <td>Female</td>\n",
       "    </tr>\n",
       "  </tbody>\n",
       "</table>\n",
       "</div>"
      ],
      "text/plain": [
       "     Name  Age  Gender\n",
       "0   Alice   25  Female\n",
       "1     Bob   30    Male\n",
       "2  Claire   27  Female"
      ]
     },
     "execution_count": 9,
     "metadata": {},
     "output_type": "execute_result"
    }
   ],
   "source": [
    "data = {'Name': Name, 'Age': Age, 'Gender': Gender}\n",
    "df = pd.DataFrame(data)\n",
    "df"
   ]
  },
  {
   "cell_type": "code",
   "execution_count": 10,
   "id": "17cd8d1d-4866-4fdb-94c0-8c5fc5a2fd1e",
   "metadata": {},
   "outputs": [],
   "source": [
    "names = pd.Series(['Alice', 'Bob', 'Charlie', 'David'])\n",
    "ages = pd.Series([25, 30, 28, 22])\n",
    "scores = pd.Series([95, 85, 90, 78])"
   ]
  },
  {
   "cell_type": "code",
   "execution_count": 11,
   "id": "d0f51957-dd45-429b-8d52-efd79fec2ee3",
   "metadata": {},
   "outputs": [
    {
     "data": {
      "text/html": [
       "<div>\n",
       "<style scoped>\n",
       "    .dataframe tbody tr th:only-of-type {\n",
       "        vertical-align: middle;\n",
       "    }\n",
       "\n",
       "    .dataframe tbody tr th {\n",
       "        vertical-align: top;\n",
       "    }\n",
       "\n",
       "    .dataframe thead th {\n",
       "        text-align: right;\n",
       "    }\n",
       "</style>\n",
       "<table border=\"1\" class=\"dataframe\">\n",
       "  <thead>\n",
       "    <tr style=\"text-align: right;\">\n",
       "      <th></th>\n",
       "      <th>Name</th>\n",
       "      <th>Age</th>\n",
       "      <th>Score</th>\n",
       "    </tr>\n",
       "  </thead>\n",
       "  <tbody>\n",
       "    <tr>\n",
       "      <th>0</th>\n",
       "      <td>Alice</td>\n",
       "      <td>25</td>\n",
       "      <td>95</td>\n",
       "    </tr>\n",
       "    <tr>\n",
       "      <th>1</th>\n",
       "      <td>Bob</td>\n",
       "      <td>30</td>\n",
       "      <td>85</td>\n",
       "    </tr>\n",
       "    <tr>\n",
       "      <th>2</th>\n",
       "      <td>Charlie</td>\n",
       "      <td>28</td>\n",
       "      <td>90</td>\n",
       "    </tr>\n",
       "    <tr>\n",
       "      <th>3</th>\n",
       "      <td>David</td>\n",
       "      <td>22</td>\n",
       "      <td>78</td>\n",
       "    </tr>\n",
       "  </tbody>\n",
       "</table>\n",
       "</div>"
      ],
      "text/plain": [
       "      Name  Age  Score\n",
       "0    Alice   25     95\n",
       "1      Bob   30     85\n",
       "2  Charlie   28     90\n",
       "3    David   22     78"
      ]
     },
     "execution_count": 11,
     "metadata": {},
     "output_type": "execute_result"
    }
   ],
   "source": [
    "df = pd.concat([names, ages, scores], axis=1)\n",
    "df.columns = ['Name', 'Age', 'Score']\n",
    "df"
   ]
  },
  {
   "cell_type": "code",
   "execution_count": null,
   "id": "518a5688-5e27-4311-bd2b-aed47a54c76d",
   "metadata": {},
   "outputs": [],
   "source": []
  },
  {
   "cell_type": "code",
   "execution_count": null,
   "id": "5aa1e5dc-9f81-48e4-9eff-77fcec1edfe0",
   "metadata": {},
   "outputs": [],
   "source": []
  }
 ],
 "metadata": {
  "kernelspec": {
   "display_name": "Python 3 (ipykernel)",
   "language": "python",
   "name": "python3"
  },
  "language_info": {
   "codemirror_mode": {
    "name": "ipython",
    "version": 3
   },
   "file_extension": ".py",
   "mimetype": "text/x-python",
   "name": "python",
   "nbconvert_exporter": "python",
   "pygments_lexer": "ipython3",
   "version": "3.10.8"
  }
 },
 "nbformat": 4,
 "nbformat_minor": 5
}
